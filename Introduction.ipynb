{
 "cells": [
  {
   "cell_type": "code",
   "execution_count": 1,
   "metadata": {},
   "outputs": [
    {
     "name": "stdout",
     "output_type": "stream",
     "text": [
      "Hello World!!\n"
     ]
    }
   ],
   "source": [
    "#print hello world!!\n",
    "print(\"Hello World!!\")"
   ]
  },
  {
   "cell_type": "code",
   "execution_count": 2,
   "metadata": {},
   "outputs": [
    {
     "name": "stdout",
     "output_type": "stream",
     "text": [
      "sum is 35\n"
     ]
    }
   ],
   "source": [
    "#add two numbers \n",
    "a = 10\n",
    "b = 25 \n",
    "c = a+b\n",
    "print(\"sum is\",c)"
   ]
  },
  {
   "cell_type": "code",
   "execution_count": 3,
   "metadata": {},
   "outputs": [
    {
     "name": "stdout",
     "output_type": "stream",
     "text": [
      "square root is 2.23606797749979\n"
     ]
    }
   ],
   "source": [
    "#find square root\n",
    "a = 5 \n",
    "squrt = a**0.5\n",
    "print(\"square root is\",squrt)"
   ]
  },
  {
   "cell_type": "code",
   "execution_count": 4,
   "metadata": {},
   "outputs": [
    {
     "name": "stdout",
     "output_type": "stream",
     "text": [
      "enter first side20\n",
      "enter second side20\n",
      "enter third side10\n",
      "area of triangle 96.82458365518542\n"
     ]
    }
   ],
   "source": [
    "#area of trianlge \n",
    "a = float(input(\"enter first side\"))\n",
    "b = float(input(\"enter second side\"))\n",
    "c = float(input(\"enter third side\"))\n",
    "\n",
    "s = (a+b+c)/2\n",
    "\n",
    "area = (s*(s-a)*(s-b)*(s-c))**0.5\n",
    "print(\"area of triangle\",area)"
   ]
  },
  {
   "cell_type": "code",
   "execution_count": 7,
   "metadata": {},
   "outputs": [
    {
     "name": "stdout",
     "output_type": "stream",
     "text": [
      "enter a8\n",
      "enter b16\n",
      "enter c8\n",
      "the solution are(-16.968719422671313+0j)and(14.968719422671311+0j)\n"
     ]
    }
   ],
   "source": [
    "#solve quadratic equation\n",
    "import cmath\n",
    "a = float(input(\"enter a\"))\n",
    "b = float(input(\"enter b\"))\n",
    "c = float(input(\"enter c\"))\n",
    "\n",
    "d = (b**4)-(4*c*a)\n",
    "\n",
    "sol1 = (-b-cmath.sqrt(d))/(2*a)\n",
    "sol2 = (-b+cmath.sqrt(d))/(2*a)\n",
    "print(\"the solution are{0}and{1}\".format(sol1,sol2))"
   ]
  },
  {
   "cell_type": "code",
   "execution_count": 9,
   "metadata": {},
   "outputs": [
    {
     "name": "stdout",
     "output_type": "stream",
     "text": [
      "a is  10\n",
      "b is 5\n"
     ]
    }
   ],
   "source": [
    "#swap two variables\n",
    "a = 5\n",
    "b = 10\n",
    "\n",
    "temp = a\n",
    "a = b\n",
    "b = temp\n",
    "\n",
    "print(\"a is \",a)\n",
    "print(\"b is\",b)"
   ]
  },
  {
   "cell_type": "code",
   "execution_count": 10,
   "metadata": {},
   "outputs": [
    {
     "name": "stdout",
     "output_type": "stream",
     "text": [
      "1\n"
     ]
    }
   ],
   "source": [
    "#generate random number\n",
    "import random\n",
    "print(random.randint(0,9))"
   ]
  },
  {
   "cell_type": "code",
   "execution_count": 11,
   "metadata": {},
   "outputs": [
    {
     "name": "stdout",
     "output_type": "stream",
     "text": [
      "enter value in kilometer3.50\n",
      "kilometer is equals to 2.1747985\n"
     ]
    }
   ],
   "source": [
    "#convert kilometer to miles\n",
    "kilometer = float(input(\"enter value in kilometer\"))\n",
    "conv = 0.621371\n",
    "miles = kilometer * conv\n",
    "print(\"kilometer is equals to\",miles)"
   ]
  },
  {
   "cell_type": "code",
   "execution_count": 12,
   "metadata": {},
   "outputs": [
    {
     "name": "stdout",
     "output_type": "stream",
     "text": [
      "celsius is equal to  99.5 degree\n"
     ]
    }
   ],
   "source": [
    "#Convert Celsius To Fahrenheit\n",
    "celsius = 37.5\n",
    "fahrenheit = (celsius*1.8)+32\n",
    "print(\"celsius is equal to \",fahrenheit,\"degree\")"
   ]
  },
  {
   "cell_type": "code",
   "execution_count": null,
   "metadata": {},
   "outputs": [],
   "source": []
  }
 ],
 "metadata": {
  "kernelspec": {
   "display_name": "Python 3",
   "language": "python",
   "name": "python3"
  },
  "language_info": {
   "codemirror_mode": {
    "name": "ipython",
    "version": 3
   },
   "file_extension": ".py",
   "mimetype": "text/x-python",
   "name": "python",
   "nbconvert_exporter": "python",
   "pygments_lexer": "ipython3",
   "version": "3.7.6"
  }
 },
 "nbformat": 4,
 "nbformat_minor": 4
}
